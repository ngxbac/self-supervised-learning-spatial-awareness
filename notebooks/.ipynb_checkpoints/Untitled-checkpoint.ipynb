{
 "cells": [
  {
   "cell_type": "code",
   "execution_count": 86,
   "metadata": {},
   "outputs": [],
   "source": [
    "import pandas as pd\n",
    "import numpy as np\n",
    "import glob\n",
    "from sklearn.metrics import matthews_corrcoef\n",
    "from scipy.stats import pearsonr\n",
    "import seaborn as sns\n",
    "import matplotlib.pyplot as plt"
   ]
  },
  {
   "cell_type": "code",
   "execution_count": 2,
   "metadata": {},
   "outputs": [
    {
     "name": "stdout",
     "output_type": "stream",
     "text": [
      "18630  18631  18632  18633  18635  23790  24084  24086\t24087  24089  24093\n"
     ]
    }
   ],
   "source": [
    "!ls ../data/Archive/3713/"
   ]
  },
  {
   "cell_type": "code",
   "execution_count": 3,
   "metadata": {},
   "outputs": [],
   "source": [
    "import hashlib\n",
    "def md5(fname):\n",
    "    hash_md5 = hashlib.md5()\n",
    "    with open(fname, \"rb\") as f:\n",
    "        for chunk in iter(lambda: f.read(4096), b\"\"):\n",
    "            hash_md5.update(chunk)\n",
    "    return hash_md5.hexdigest()"
   ]
  },
  {
   "cell_type": "code",
   "execution_count": 125,
   "metadata": {},
   "outputs": [],
   "source": [
    "team_3713 = np.sort(glob.glob(\"../data/Archive/3713/*\"))\n",
    "team_3714 = np.sort(glob.glob(\"../data/Archive/3714/*\"))"
   ]
  },
  {
   "cell_type": "code",
   "execution_count": 127,
   "metadata": {},
   "outputs": [
    {
     "data": {
      "text/plain": [
       "array(['../data/Archive/3714/18636', '../data/Archive/3714/18637',\n",
       "       '../data/Archive/3714/18638', '../data/Archive/3714/23805',\n",
       "       '../data/Archive/3714/23815', '../data/Archive/3714/23825',\n",
       "       '../data/Archive/3714/24067', '../data/Archive/3714/24070',\n",
       "       '../data/Archive/3714/24072', '../data/Archive/3714/24076',\n",
       "       '../data/Archive/3714/24078'], dtype='<U26')"
      ]
     },
     "execution_count": 127,
     "metadata": {},
     "output_type": "execute_result"
    }
   ],
   "source": [
    "team_3714"
   ]
  },
  {
   "cell_type": "code",
   "execution_count": 128,
   "metadata": {},
   "outputs": [
    {
     "data": {
      "text/plain": [
       "array(['../data/Archive/3713/18630', '../data/Archive/3713/18631',\n",
       "       '../data/Archive/3713/18632', '../data/Archive/3713/18633',\n",
       "       '../data/Archive/3713/18635', '../data/Archive/3713/23790',\n",
       "       '../data/Archive/3713/24084', '../data/Archive/3713/24086',\n",
       "       '../data/Archive/3713/24087', '../data/Archive/3713/24089',\n",
       "       '../data/Archive/3713/24093'], dtype='<U26')"
      ]
     },
     "execution_count": 128,
     "metadata": {},
     "output_type": "execute_result"
    }
   ],
   "source": [
    "team_3713"
   ]
  },
  {
   "cell_type": "code",
   "execution_count": 135,
   "metadata": {},
   "outputs": [],
   "source": [
    "team_3713_preds = [pd.read_csv(file)[\"label\"].values for file in team_3713]\n",
    "team_3713_names = [file.split(\"/\")[-1] for file in team_3713]\n",
    "team_3714_preds = [pd.read_csv(file)[\"label\"].values for file in team_3714]\n",
    "team_3714_names = [file.split(\"/\")[-1] for file in team_3714]\n",
    "vald_pred = [pd.read_csv(\"./submission_vlad.csv\")[\"label\"].values]"
   ]
  },
  {
   "cell_type": "code",
   "execution_count": 130,
   "metadata": {},
   "outputs": [],
   "source": [
    "corr_matrix = np.zeros((len(team_3713_preds), len(team_3714_preds)))\n",
    "for i, pred1 in enumerate(team_3713_preds):\n",
    "    for j, pred2 in enumerate(team_3714_preds):\n",
    "        c = pearsonr(np.around(pred1, 3), np.around(pred2, 3))[0]\n",
    "        corr_matrix[i, j] = c"
   ]
  },
  {
   "cell_type": "code",
   "execution_count": null,
   "metadata": {},
   "outputs": [],
   "source": []
  },
  {
   "cell_type": "code",
   "execution_count": null,
   "metadata": {},
   "outputs": [
    {
     "data": {
      "text/plain": [
       "<matplotlib.axes._subplots.AxesSubplot at 0x7fe777d0deb8>"
      ]
     },
     "execution_count": 138,
     "metadata": {},
     "output_type": "execute_result"
    }
   ],
   "source": [
    "fig = plt.figure(figsize=(9, 9))\n",
    "sns.heatmap(corr_matrix, annot=True, linewidths=.5, xticklabels=team_3714_names, yticklabels=team_3713_names)"
   ]
  },
  {
   "cell_type": "code",
   "execution_count": 133,
   "metadata": {},
   "outputs": [
    {
     "data": {
      "text/plain": [
       "0.9984238276879558"
      ]
     },
     "execution_count": 133,
     "metadata": {},
     "output_type": "execute_result"
    }
   ],
   "source": [
    "corr_matrix[10, 6]"
   ]
  },
  {
   "cell_type": "code",
   "execution_count": 116,
   "metadata": {},
   "outputs": [],
   "source": [
    "p1 = team_3713_preds[10]"
   ]
  },
  {
   "cell_type": "code",
   "execution_count": 118,
   "metadata": {},
   "outputs": [],
   "source": [
    "p2 = team_3714_preds[4]"
   ]
  },
  {
   "cell_type": "code",
   "execution_count": 121,
   "metadata": {},
   "outputs": [
    {
     "data": {
      "text/plain": [
       "array([0.89030548, 0.64496775, 0.04844758, ..., 0.64506775, 0.42352882,\n",
       "       0.40932953])"
      ]
     },
     "execution_count": 121,
     "metadata": {},
     "output_type": "execute_result"
    }
   ],
   "source": [
    "p1"
   ]
  },
  {
   "cell_type": "code",
   "execution_count": 122,
   "metadata": {},
   "outputs": [
    {
     "data": {
      "text/plain": [
       "array([0.89004711, 0.64428185, 0.04780996, ..., 0.64438208, 0.42282249,\n",
       "       0.40858976])"
      ]
     },
     "execution_count": 122,
     "metadata": {},
     "output_type": "execute_result"
    }
   ],
   "source": [
    "p2"
   ]
  },
  {
   "cell_type": "code",
   "execution_count": null,
   "metadata": {},
   "outputs": [],
   "source": []
  },
  {
   "cell_type": "code",
   "execution_count": null,
   "metadata": {},
   "outputs": [],
   "source": []
  },
  {
   "cell_type": "code",
   "execution_count": null,
   "metadata": {},
   "outputs": [],
   "source": []
  },
  {
   "cell_type": "code",
   "execution_count": null,
   "metadata": {},
   "outputs": [],
   "source": []
  },
  {
   "cell_type": "code",
   "execution_count": 82,
   "metadata": {},
   "outputs": [],
   "source": [
    "corr_matrix_vlad = np.zeros((len(team_3713_preds), 1))\n",
    "for i, pred1 in enumerate(team_3713_preds):\n",
    "    c = pearsonr(pred1, vald_pred[0])[0]\n",
    "    corr_matrix_vlad[i, 0] = c"
   ]
  },
  {
   "cell_type": "code",
   "execution_count": 85,
   "metadata": {},
   "outputs": [
    {
     "data": {
      "text/plain": [
       "<matplotlib.axes._subplots.AxesSubplot at 0x7fe77e5e63c8>"
      ]
     },
     "execution_count": 85,
     "metadata": {},
     "output_type": "execute_result"
    },
    {
     "data": {
      "image/png": "[encoded data removed]",
      "text/plain": [
       "<Figure size 432x288 with 2 Axes>"
      ]
     },
     "metadata": {
      "needs_background": "light"
     },
     "output_type": "display_data"
    }
   ],
   "source": [
    "sns.heatmap(corr_matrix_vlad, annot=True, linewidths=.5)"
   ]
  },
  {
   "cell_type": "code",
   "execution_count": 106,
   "metadata": {},
   "outputs": [],
   "source": [
    "team_bac= glob.glob(\"./bac_subs/*\")\n",
    "team_bac_preds = [pd.read_csv(file)[\"label\"].values for file in team_bac]"
   ]
  },
  {
   "cell_type": "code",
   "execution_count": 107,
   "metadata": {},
   "outputs": [],
   "source": [
    "corr_matrix_bac = np.zeros((len(team_bac_preds), len(team_bac_preds)))\n",
    "for i, pred1 in enumerate(team_bac_preds):\n",
    "    for j, pred2 in enumerate(team_bac_preds):\n",
    "        c = pearsonr(np.around(pred1, 3), np.around(pred2, 3))[0]\n",
    "        corr_matrix_bac[i, j] = c"
   ]
  },
  {
   "cell_type": "code",
   "execution_count": 108,
   "metadata": {},
   "outputs": [
    {
     "data": {
      "text/plain": [
       "<matplotlib.axes._subplots.AxesSubplot at 0x7fe77e106be0>"
      ]
     },
     "execution_count": 108,
     "metadata": {},
     "output_type": "execute_result"
    },
    {
     "data": {
      "image/png": "[encoded data removed]",
      "text/plain": [
       "<Figure size 576x576 with 2 Axes>"
      ]
     },
     "metadata": {
      "needs_background": "light"
     },
     "output_type": "display_data"
    }
   ],
   "source": [
    "fig = plt.figure(figsize=(8, 8))\n",
    "sns.heatmap(corr_matrix_bac, annot=True, linewidths=.5)"
   ]
  },
  {
   "cell_type": "code",
   "execution_count": 110,
   "metadata": {},
   "outputs": [
    {
     "data": {
      "text/plain": [
       "array([[1.        , 0.97675375, 0.99300526],\n",
       "       [0.97675375, 1.        , 0.97586629],\n",
       "       [0.99300526, 0.97586629, 1.        ]])"
      ]
     },
     "execution_count": 110,
     "metadata": {},
     "output_type": "execute_result"
    }
   ],
   "source": [
    "corr_matrix_bac"
   ]
  },
  {
   "cell_type": "code",
   "execution_count": null,
   "metadata": {},
   "outputs": [],
   "source": []
  }
 ],
 "metadata": {
  "kernelspec": {
   "display_name": "Python 3",
   "language": "python",
   "name": "python3"
  },
  "language_info": {
   "codemirror_mode": {
    "name": "ipython",
    "version": 3
   },
   "file_extension": ".py",
   "mimetype": "text/x-python",
   "name": "python",
   "nbconvert_exporter": "python",
   "pygments_lexer": "ipython3",
   "version": "3.6.9"
  }
 },
 "nbformat": 4,
 "nbformat_minor": 4
}
